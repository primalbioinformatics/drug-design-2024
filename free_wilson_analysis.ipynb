{
  "nbformat": 4,
  "nbformat_minor": 0,
  "metadata": {
    "colab": {
      "provenance": [],
      "authorship_tag": "ABX9TyNnMyBIGHGKuaCsI6ZkcHFf",
      "include_colab_link": true
    },
    "kernelspec": {
      "name": "python3",
      "display_name": "Python 3"
    },
    "language_info": {
      "name": "python"
    }
  },
  "cells": [
    {
      "cell_type": "markdown",
      "metadata": {
        "id": "view-in-github",
        "colab_type": "text"
      },
      "source": [
        "<a href=\"https://colab.research.google.com/github/primalbioinformatics/drug-design-2024/blob/main/free_wilson_analysis.ipynb\" target=\"_parent\"><img src=\"https://colab.research.google.com/assets/colab-badge.svg\" alt=\"Open In Colab\"/></a>"
      ]
    },
    {
      "cell_type": "code",
      "execution_count": 1,
      "metadata": {
        "colab": {
          "base_uri": "https://localhost:8080/"
        },
        "id": "ofRxRlP7Sabf",
        "outputId": "2063edfb-e131-4937-d1f6-0fabaa4a018c"
      },
      "outputs": [
        {
          "output_type": "stream",
          "name": "stdout",
          "text": [
            "Intercept: 6.23\n",
            "Substituent A coefficient: 0.31\n",
            "Substituent B coefficient: 0.56\n",
            "Substituent C coefficient: 0.73\n",
            "Substituent D coefficient: -0.23\n",
            "\n",
            "Results using sklearn:\n",
            "Intercept: 6.23\n",
            "Substituent A coefficient: 0.31\n",
            "Substituent B coefficient: 0.56\n",
            "Substituent C coefficient: 0.73\n",
            "Substituent D coefficient: -0.23\n"
          ]
        }
      ],
      "source": [
        "import pandas as pd\n",
        "import numpy as np\n",
        "from sklearn.linear_model import LinearRegression\n",
        "\n",
        "# Create the dataset\n",
        "data = {\n",
        "    'Compound': [1, 2, 3, 4, 5, 6, 7, 8, 9, 10],\n",
        "    'Substituent A': [1, 0, 0, 0, 1, 1, 0, 0, 1, 1],\n",
        "    'Substituent B': [0, 1, 0, 0, 1, 0, 1, 0, 1, 1],\n",
        "    'Substituent C': [0, 0, 1, 0, 0, 1, 1, 1, 1, 0],\n",
        "    'Substituent D': [0, 0, 0, 1, 0, 0, 0, 1, 0, 1],\n",
        "    'Biological Activity': [6.5, 6.8, 7.0, 6.0, 7.1, 7.3, 7.5, 6.7, 7.8, 6.9]\n",
        "}\n",
        "\n",
        "# Convert to DataFrame\n",
        "df = pd.DataFrame(data)\n",
        "\n",
        "# Define the features (X) and target variable (y)\n",
        "X = df[['Substituent A', 'Substituent B', 'Substituent C', 'Substituent D']]\n",
        "y = df['Biological Activity']\n",
        "\n",
        "# Add a constant column for the intercept\n",
        "X = np.c_[np.ones(X.shape[0]), X]  # Add a column of ones to include the intercept in the model\n",
        "\n",
        "# Perform the regression using NumPy's linear algebra module\n",
        "X_transpose = np.transpose(X)\n",
        "beta = np.linalg.inv(X_transpose @ X) @ X_transpose @ y\n",
        "\n",
        "# Extract coefficients\n",
        "intercept = beta[0]\n",
        "coefficients = beta[1:]\n",
        "\n",
        "# Print the results\n",
        "print(f'Intercept: {intercept:.2f}')\n",
        "print(f'Substituent A coefficient: {coefficients[0]:.2f}')\n",
        "print(f'Substituent B coefficient: {coefficients[1]:.2f}')\n",
        "print(f'Substituent C coefficient: {coefficients[2]:.2f}')\n",
        "print(f'Substituent D coefficient: {coefficients[3]:.2f}')\n",
        "\n",
        "# Optionally, you can use sklearn's LinearRegression for comparison\n",
        "model = LinearRegression()\n",
        "model.fit(X[:, 1:], y)  # Use X[:, 1:] to exclude the intercept column in sklearn\n",
        "print(\"\\nResults using sklearn:\")\n",
        "print(f'Intercept: {model.intercept_:.2f}')\n",
        "print(f'Substituent A coefficient: {model.coef_[0]:.2f}')\n",
        "print(f'Substituent B coefficient: {model.coef_[1]:.2f}')\n",
        "print(f'Substituent C coefficient: {model.coef_[2]:.2f}')\n",
        "print(f'Substituent D coefficient: {model.coef_[3]:.2f}')\n"
      ]
    }
  ]
}